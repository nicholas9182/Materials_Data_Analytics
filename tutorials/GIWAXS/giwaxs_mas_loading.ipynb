{
 "cells": [
  {
   "cell_type": "markdown",
   "metadata": {},
   "source": [
    "# EX-situ GIWAXS\n",
    "\n",
    "BL 11-3 SLAC - February 2025\n",
    "\n",
    "This is a tutorial which explores how to use MDA to analyze ex-situ GIWAXS data. The data was collected at beamline 11-3 at SLAC in February 2025. The data is from a series of samples synthesised and prepared by Dr. Adam Marks and measured at SLAC by Dr. Arianna Magni. The samples are a series of polymer thin films with varying thicknesses."
   ]
  },
  {
   "cell_type": "markdown",
   "metadata": {},
   "source": [
    "## Import Packages and Classes\n",
    "\n",
    "We will start by importing the necessary packages and classes."
   ]
  },
  {
   "cell_type": "code",
   "execution_count": null,
   "metadata": {},
   "outputs": [],
   "source": [
    "import pandas as pd\n",
    "import plotly.express as px\n",
    "from glob import glob\n",
    "\n",
    "from Materials_Data_Analytics.experiment_modelling.giwaxs import Calibrator\n",
    "from Materials_Data_Analytics.experiment_modelling.giwaxs import GIWAXSPixelImage"
   ]
  },
  {
   "cell_type": "markdown",
   "metadata": {},
   "source": [
    "## Create Callibrator\n",
    "\n",
    "Next we will create a callibration object.  This contains information about the beamline and the detector used for calculating diffraction patterns from the beamline images"
   ]
  },
  {
   "cell_type": "code",
   "execution_count": null,
   "metadata": {},
   "outputs": [],
   "source": [
    "calibrator = Calibrator.from_poni_file('/path/to/calibration.poni')\n",
    "calibrator"
   ]
  },
  {
   "cell_type": "markdown",
   "metadata": {},
   "source": [
    "## Find the files and extract the values\n",
    "\n",
    "Our next task is to read in the image files created by the beamline.  First, we will find all the files in a directory that corrospond to a pattern match. These will be all the beamline files we want to read in.\n"
   ]
  },
  {
   "cell_type": "code",
   "execution_count": null,
   "metadata": {},
   "outputs": [],
   "source": [
    "tif_files = glob('/path/to/tiff/files/*.tif')\n",
    "tif_files"
   ]
  },
  {
   "cell_type": "markdown",
   "metadata": {},
   "source": [
    "Next,  we will turn these paths into a dataframe.  We will also extract the solution concentration from the name, as an indicator for the mass loading of the film. "
   ]
  },
  {
   "cell_type": "code",
   "execution_count": null,
   "metadata": {},
   "outputs": [],
   "source": [
    "\n",
    "concentration_map = {\n",
    "    '5mgmL': 5,\n",
    "    '10mgmL': 10,\n",
    "    '2p5mgmL': 2.5,\n",
    "}\n",
    "\n",
    "file_data_frame = (pd\n",
    "                   .DataFrame({'path': tif_files})\n",
    "                   .assign(concentration = lambda x: [concentration_map[s.split('/')[-1].split('_')[2]] for s in x['path']])\n",
    "                   )\n",
    "\n",
    "file_data_frame"
   ]
  },
  {
   "cell_type": "markdown",
   "metadata": {},
   "source": [
    "Each concentration has 3 images. This is often the case as the sample is moved around to get a better average of the diffraction pattern. The next bit of code will automatically adjust the positions of the images and average them together correctly to get a final, high resolution GIWAXS image. "
   ]
  },
  {
   "cell_type": "markdown",
   "metadata": {},
   "source": [
    "## Read in the files to create the GIWAXS Image\n",
    "\n",
    "In the following part, we will group this dataframe by concentration. For each concentration, we will read the beamline images in to the .from_SLAC_BL11_3() consutrctor. This will create a GIWAXSPixelImage object. From this image object, we calculate a diffraction pattern."
   ]
  },
  {
   "cell_type": "code",
   "execution_count": null,
   "metadata": {},
   "outputs": [],
   "source": [
    "\n",
    "patterns = []\n",
    "\n",
    "for name, df in file_data_frame.groupby('concentration'):\n",
    "\n",
    "    files = df['path'].to_list()\n",
    "\n",
    "    pattern = (GIWAXSPixelImage\n",
    "               .from_SLAC_BL11_3(files)\n",
    "               .get_giwaxs_pattern(calibrator=calibrator, pixel_q = 1024, pixel_chi = 360)\n",
    "               )\n",
    "    \n",
    "    patterns.append(pattern)\n",
    "\n",
    "\n",
    "data = (pd\n",
    "        .DataFrame({'pattern': patterns, 'concentration': file_data_frame['concentration'].unique()})\n",
    "        .sort_values('concentration')\n",
    "        )\n",
    "\n",
    "data"
   ]
  },
  {
   "cell_type": "markdown",
   "metadata": {},
   "source": [
    "# Plots"
   ]
  },
  {
   "cell_type": "markdown",
   "metadata": {},
   "source": [
    "## plot 2D maps\n",
    "\n",
    "Here,  for each pattern we plot a 2D map of the diffraction pattern. This is a good way to check the quality of the data and to get familiar with the features. "
   ]
  },
  {
   "cell_type": "code",
   "execution_count": null,
   "metadata": {},
   "outputs": [],
   "source": [
    "\n",
    "for pattern, concentration in zip(data['pattern'], data['concentration']):\n",
    "\n",
    "    figure = pattern.plot_reciprocal_map(intensity_lower_cuttoff = 1, \n",
    "                                         width=800, \n",
    "                                         height=500, \n",
    "                                         title=f'AM946 at concentration {concentration} mg/ml',\n",
    "                                         template = 'plotly_dark')\n",
    "    \n",
    "    figure.show()\n"
   ]
  },
  {
   "cell_type": "code",
   "execution_count": null,
   "metadata": {},
   "outputs": [],
   "source": [
    "\n",
    "for pattern, concentration in zip(data['pattern'], data['concentration']):\n",
    "\n",
    "    figure = pattern.plot_polar_map(intensity_lower_cuttoff = 1, \n",
    "                                    width=800, \n",
    "                                    height=500, \n",
    "                                    title=f'AM946 at concentration {concentration} mg/ml',\n",
    "                                    template = 'plotly_dark')\n",
    "    \n",
    "    figure.show()"
   ]
  },
  {
   "cell_type": "markdown",
   "metadata": {},
   "source": [
    "## plot linecuts\n",
    "#### out of plane"
   ]
  },
  {
   "cell_type": "code",
   "execution_count": null,
   "metadata": {},
   "outputs": [],
   "source": [
    "data_plot = []\n",
    "\n",
    "for pattern, concentration in zip(data['pattern'], data['concentration']):\n",
    "\n",
    "    linecut_data = (pattern\n",
    "                    .get_linecut(chi = (5,20))\n",
    "                    .data\n",
    "                    .assign(concentration = concentration)\n",
    "                    .query('q < 2')\n",
    "                    )\n",
    "    \n",
    "    data_plot.append(linecut_data)\n",
    "    \n",
    "data_plot = pd.concat(data_plot)\n",
    "\n",
    "px.line(data_plot, x='q', y='intensity', color='concentration', title='Linecut of AM946 at different concentrations', template='presentation', width=900, height=500, log_y=True).show()\n"
   ]
  },
  {
   "cell_type": "markdown",
   "metadata": {},
   "source": [
    "#### in plane"
   ]
  },
  {
   "cell_type": "code",
   "execution_count": null,
   "metadata": {},
   "outputs": [],
   "source": [
    "data_plot = []\n",
    "\n",
    "for pattern, concentration in zip(data['pattern'], data['concentration']):\n",
    "\n",
    "    linecut_data = (pattern\n",
    "                    .get_linecut(chi = (70,87))\n",
    "                    .data\n",
    "                    .assign(concentration = concentration)\n",
    "                    .query('q < 2')\n",
    "                    )\n",
    "    \n",
    "    data_plot.append(linecut_data)\n",
    "    \n",
    "data_plot = pd.concat(data_plot)\n",
    "\n",
    "px.line(data_plot, x='q', y='intensity', color='concentration', title='Linecut of AM946 at different concentrations', template='presentation', width=900, height=500, log_y=True).show()"
   ]
  },
  {
   "cell_type": "markdown",
   "metadata": {},
   "source": [
    "# fitting\n",
    "### lamellar peak"
   ]
  },
  {
   "cell_type": "code",
   "execution_count": null,
   "metadata": {},
   "outputs": [],
   "source": [
    "\n",
    "a = (a\n",
    "     .assign(bins = pd.cut(a['q'], bins = 1000))\n",
    "     .groupby('bins')\n",
    "     .agg('mean')\n",
    "     )\n"
   ]
  },
  {
   "cell_type": "code",
   "execution_count": null,
   "metadata": {},
   "outputs": [],
   "source": [
    "initial_fitting_parameters = {'peak_center_value': 0.88,\n",
    "                              'peak_sigma_max': 0.1,\n",
    "                              'peak_center_min': 0.1,\n",
    "                              'peak_center_max': 1,\n",
    "                              'peak_amplitude_value': 100,\n",
    "                              'bkg_intercept_value': 0,\n",
    "                              'bkg_slope_value': 0}"
   ]
  },
  {
   "cell_type": "code",
   "execution_count": null,
   "metadata": {},
   "outputs": [],
   "source": [
    "out_of_plane_lamellar_fits = []\n",
    "\n",
    "for p, c in zip(data['pattern'], data['concentration']):\n",
    "\n",
    "    linecut = p.get_linecut(chi = (5, 20))\n",
    "    peak_data = linecut.data.query('q > 0.7 and q < 1.05')\n",
    "\n",
    "    fit = (linecut\n",
    "           .fit_linecut(peak_model = 'LorentzianModel',\n",
    "                        background_model = 'LinearModel',\n",
    "                        q_range = (0.7, 1.05),\n",
    "                        initial_parameters = initial_fitting_parameters)\n",
    "           .fit_results\n",
    "           )\n",
    "    \n",
    "    peak_data['peak_fit'] = fit.eval_components()['peak_']\n",
    "    peak_data['background_fit'] = fit.eval_components()['bkg_']\n",
    "    peak_data['total_fit'] = peak_data['peak_fit'] + peak_data['background_fit']\n",
    "    peak_data['concentration'] = c\n",
    "    peak_data = peak_data.melt(id_vars=['q', 'chi', 'concentration'], var_name='fit_type', value_name='fit_value')\n",
    "\n",
    "    out_of_plane_lamellar_fits.append(peak_data)\n",
    "\n",
    "plot_data = pd.concat(out_of_plane_lamellar_fits)\n",
    "\n",
    "px.line(plot_data, facet_row='concentration', x='q', y='fit_value', color='fit_type', title='Fitting of AM946 at different concentrations', template='presentation', width=600, height=900).show()"
   ]
  }
 ],
 "metadata": {
  "kernelspec": {
   "display_name": "analytics",
   "language": "python",
   "name": "python3"
  },
  "language_info": {
   "codemirror_mode": {
    "name": "ipython",
    "version": 3
   },
   "file_extension": ".py",
   "mimetype": "text/x-python",
   "name": "python",
   "nbconvert_exporter": "python",
   "pygments_lexer": "ipython3",
   "version": "3.10.13"
  }
 },
 "nbformat": 4,
 "nbformat_minor": 2
}
