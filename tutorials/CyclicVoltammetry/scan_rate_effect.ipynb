{
 "cells": [
  {
   "cell_type": "code",
   "execution_count": null,
   "id": "3a3e58a5-713d-4710-99bc-0fef3016459e",
   "metadata": {},
   "outputs": [],
   "source": [
    "from Materials_Data_Analytics.experiment_modelling.cyclic_voltammetry import CyclicVoltammogram"
   ]
  },
  {
   "cell_type": "code",
   "execution_count": null,
   "id": "44b7ba72",
   "metadata": {},
   "outputs": [],
   "source": [
    "my_cv = CyclicVoltammogram.from_biologic(\"../../local_trajectories/cyclic_voltammetry/00050mvs.txt\", metadata = {'scan_rate': 50}).downsample(100)"
   ]
  },
  {
   "cell_type": "code",
   "execution_count": null,
   "id": "9b29ff16",
   "metadata": {},
   "outputs": [],
   "source": [
    "figure = my_cv.get_current_potential_plot(template='simple_white', width=700, height=500, title='scan rate 50 mv/s')\n",
    "figure.show()"
   ]
  },
  {
   "cell_type": "code",
   "execution_count": null,
   "id": "62175cfd",
   "metadata": {},
   "outputs": [],
   "source": [
    "figure = my_cv.get_current_time_plot(template='simple_white', width=1000, height=500, title='scan rate 50 mv/s')\n",
    "figure.show()"
   ]
  },
  {
   "cell_type": "code",
   "execution_count": null,
   "id": "44a850a6",
   "metadata": {},
   "outputs": [],
   "source": [
    "figure = my_cv.get_potential_time_plot(template='simple_white', width=1000, height=500, title='scan rate 50 mv/s')\n",
    "figure.show()"
   ]
  },
  {
   "cell_type": "code",
   "execution_count": null,
   "id": "1b679f77",
   "metadata": {},
   "outputs": [],
   "source": [
    "charges = my_cv.get_charge_passed()\n",
    "charges"
   ]
  },
  {
   "cell_type": "code",
   "execution_count": null,
   "id": "33e24a21",
   "metadata": {},
   "outputs": [],
   "source": [
    "my_cv.get_charge_integration_plot(cycle=3, direction='reduction', template='simple_white', width=800).show()"
   ]
  },
  {
   "cell_type": "code",
   "execution_count": null,
   "id": "ac2a445b",
   "metadata": {},
   "outputs": [],
   "source": [
    "my_cv.get_peak_plot(direction='oxidation', width=800, height=600, template = 'simple_white').show()"
   ]
  },
  {
   "cell_type": "code",
   "execution_count": null,
   "id": "738c64a0",
   "metadata": {},
   "outputs": [],
   "source": [
    "my_cv.get_peak_plot(direction='reduction',window=0.05, width=800, height=600, template = 'simple_white').show()"
   ]
  }
 ],
 "metadata": {
  "kernelspec": {
   "display_name": "analytics",
   "language": "python",
   "name": "python3"
  },
  "language_info": {
   "codemirror_mode": {
    "name": "ipython",
    "version": 3
   },
   "file_extension": ".py",
   "mimetype": "text/x-python",
   "name": "python",
   "nbconvert_exporter": "python",
   "pygments_lexer": "ipython3",
   "version": "3.10.13"
  }
 },
 "nbformat": 4,
 "nbformat_minor": 5
}
