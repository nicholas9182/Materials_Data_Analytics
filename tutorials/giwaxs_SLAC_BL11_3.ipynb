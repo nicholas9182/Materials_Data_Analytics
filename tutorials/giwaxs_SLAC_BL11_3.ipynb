{
 "cells": [
  {
   "cell_type": "code",
   "execution_count": null,
   "id": "3a3e58a5-713d-4710-99bc-0fef3016459e",
   "metadata": {
    "metadata": {}
   },
   "outputs": [],
   "source": [
    "import plotly.express as px\n",
    "from plotly.subplots import make_subplots\n",
    "from Materials_Data_Analytics.experiment_modelling.giwaxs import Calibrator\n",
    "from Materials_Data_Analytics.experiment_modelling.giwaxs import GIWAXSPattern\n",
    "from Materials_Data_Analytics.experiment_modelling.giwaxs import GIWAXSPixelImage"
   ]
  },
  {
   "cell_type": "code",
   "execution_count": null,
   "id": "1eba5d86",
   "metadata": {},
   "outputs": [],
   "source": [
    "# load the callibration data\n",
    "calibrator = Calibrator.from_poni_file('/Users/nsiemons/Drive/temp/calibration.poni')\n",
    "\n",
    "print(f\"The beam energy is {calibrator.energy} eV\")\n",
    "print(f\"The beam wavelength is {calibrator.wavelength} nm\")\n",
    "print(f\"The detector is {calibrator.detector}\")\n",
    "print(f\"The distance is {calibrator.distance} mm\")"
   ]
  },
  {
   "cell_type": "code",
   "execution_count": 4,
   "id": "dfb0e289",
   "metadata": {},
   "outputs": [],
   "source": [
    "# create GIWAXS image objects from SLAC images outputted from the beamline\n",
    "\n",
    "# paths\n",
    "image_paths = [\n",
    "    'path_to_image1.tif',\n",
    "    'path_to_image2.tif',\n",
    "    'path_to_image3.tif',\n",
    "    'path_to_image4.tif'\n",
    "]\n",
    "\n",
    "text_paths = [\n",
    "    'path_to_text1.txt',\n",
    "    'path_to_text2.txt',\n",
    "    'path_to_text3.txt',\n",
    "    'path_to_text4.txt'\n",
    "]\n",
    "\n",
    "temperature = [25, 50, 75, 100]\n",
    "\n",
    "# create the GIWAXS image objects\n",
    "images = [GIWAXSPixelImage.from_SLAC_BL11_3(pi, pt) for pi, pt in zip(image_paths, text_paths)]\n"
   ]
  },
  {
   "cell_type": "code",
   "execution_count": null,
   "id": "2028bca9",
   "metadata": {},
   "outputs": [],
   "source": [
    "# Get GIWAXS patterns from the images\n",
    "\n",
    "# get the patterns\n",
    "patterns = [i.get_giwaxs_pattern(calibrator) for i in images]\n",
    "\n",
    "print(patterns)"
   ]
  },
  {
   "cell_type": "code",
   "execution_count": null,
   "id": "b40fe482",
   "metadata": {},
   "outputs": [],
   "source": [
    "# Get the GIWAXS patterns in reciprocal space\n",
    "\n",
    "# Get the figures\n",
    "figures = [i.plot_reciprocal_map(template='plotly_dark', intensity_lower_cuttoff=12, width=800, height=500) for i in patterns]\n",
    "\n",
    "# plot the figures\n",
    "[f.show() for f in figures]"
   ]
  },
  {
   "cell_type": "code",
   "execution_count": null,
   "id": "a6ff0e51",
   "metadata": {},
   "outputs": [],
   "source": [
    "# Get the GIWAXS patterns in polar space\n",
    "\n",
    "# Get the figures\n",
    "figures = [i.plot_polar_map(template='plotly_dark', intensity_lower_cuttoff=10, width=800, height=500) for i in patterns]\n",
    "\n",
    "# plot the figures\n",
    "[f.show() for f in figures]"
   ]
  }
 ],
 "metadata": {
  "kernelspec": {
   "display_name": "analytics",
   "language": "python",
   "name": "python3"
  },
  "language_info": {
   "codemirror_mode": {
    "name": "ipython",
    "version": 3
   },
   "file_extension": ".py",
   "mimetype": "text/x-python",
   "name": "python",
   "nbconvert_exporter": "python",
   "pygments_lexer": "ipython3",
   "version": "3.10.13"
  }
 },
 "nbformat": 4,
 "nbformat_minor": 5
}
